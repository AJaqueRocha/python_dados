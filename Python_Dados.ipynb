{
  "nbformat": 4,
  "nbformat_minor": 0,
  "metadata": {
    "colab": {
      "provenance": [],
      "authorship_tag": "ABX9TyO2PeeWxtwAecAhzSlFRySb",
      "include_colab_link": true
    },
    "kernelspec": {
      "name": "python3",
      "display_name": "Python 3"
    },
    "language_info": {
      "name": "python"
    }
  },
  "cells": [
    {
      "cell_type": "markdown",
      "metadata": {
        "id": "view-in-github",
        "colab_type": "text"
      },
      "source": [
        "<a href=\"https://colab.research.google.com/github/AJaqueRocha/python_dados/blob/main/Python_Dados.ipynb\" target=\"_parent\"><img src=\"https://colab.research.google.com/assets/colab-badge.svg\" alt=\"Open In Colab\"/></a>"
      ]
    },
    {
      "cell_type": "code",
      "execution_count": 5,
      "metadata": {
        "id": "uUg7NHPjBmdE"
      },
      "outputs": [],
      "source": [
        "import pandas as pd"
      ]
    },
    {
      "cell_type": "code",
      "source": [
        "df = pd.read_csv('saude_sono.csv')\n",
        "df.head()"
      ],
      "metadata": {
        "id": "M9wPdpGrDJ_N"
      },
      "execution_count": null,
      "outputs": []
    },
    {
      "cell_type": "markdown",
      "source": [
        "**1.** Ao visualizar a base você percebeu que seria melhor alterar o nome de\n",
        "algumas colunas. Mude o ‘ID’ para ‘Identificador’, corrija o nome da\n",
        "coluna que indica a pressão sanguínea, mude a coluna ‘Ocupação’ para\n",
        "‘Profissão’, a coluna ‘Categoria BMI’ está em parte em inglês, substitua\n",
        "para ‘Categoria IMC’.\n"
      ],
      "metadata": {
        "id": "rCD6QI_sHgK3"
      }
    },
    {
      "cell_type": "code",
      "source": [
        "df.rename(columns={'ID': 'Identificador', 'Pressão sanguíneaaaa': 'Pressão sanguínea', 'Ocupação': 'Profissão', 'Categoria BMI': 'Categoria IMC'}, inplace=True)\n",
        "print(df)"
      ],
      "metadata": {
        "id": "t7zr0hHHDvaw"
      },
      "execution_count": null,
      "outputs": []
    },
    {
      "cell_type": "markdown",
      "source": [
        "**2.** Qual é a média, a moda e a mediana de horas de sono para cada uma\n",
        "das profissões? [‘mean’, np.median, pd.Series.mod]\n"
      ],
      "metadata": {
        "id": "9thJzuzYHyy_"
      }
    },
    {
      "cell_type": "code",
      "source": [
        "import numpy as np"
      ],
      "metadata": {
        "id": "z6UsZnPCHrY_"
      },
      "execution_count": 24,
      "outputs": []
    },
    {
      "cell_type": "code",
      "source": [
        "media = df.groupby('Profissão')['Duração do sono'].mean()\n",
        "print(media)"
      ],
      "metadata": {
        "id": "qgqAZnvtJx-k"
      },
      "execution_count": null,
      "outputs": []
    },
    {
      "cell_type": "code",
      "source": [
        "moda = df.groupby('Profissão')['Duração do sono'].apply(lambda x: x.mode())\n",
        "print(moda)"
      ],
      "metadata": {
        "id": "PXGHoFHUJ7Pb"
      },
      "execution_count": null,
      "outputs": []
    },
    {
      "cell_type": "code",
      "source": [
        "mediana = df.groupby('Profissão')['Duração do sono'].median()\n",
        "print(mediana)"
      ],
      "metadata": {
        "id": "Knl8N0meKMX-"
      },
      "execution_count": null,
      "outputs": []
    },
    {
      "cell_type": "markdown",
      "source": [
        "**3.** Das pessoas que atuam com engenharia de software qual a\n",
        "porcentagem de obesos?"
      ],
      "metadata": {
        "id": "Qz9rXl6eKY0m"
      }
    },
    {
      "cell_type": "code",
      "source": [
        "porcentagem_obesos_eng_software = (df[(df['Categoria IMC'] == 'Obesidade') & (df['Profissão'] == 'Eng. de Software')].shape[0] / df[df['Profissão'] == 'Eng. de Software'].shape[0]) * 100\n",
        "print('A porcentagem de pessoas obesas que atuam ne Engenharia de software é de', porcentagem_obesos_eng_software, '%')"
      ],
      "metadata": {
        "id": "kfDXcnL8Kf4V"
      },
      "execution_count": null,
      "outputs": []
    },
    {
      "cell_type": "markdown",
      "source": [
        "**4.** De acordo com os dados, advogar ou ser representante de vendas faz\n",
        "você dormir menos? (Use o método ‘isin’, considere a média)"
      ],
      "metadata": {
        "id": "0lkGvCvaL1Ts"
      }
    },
    {
      "cell_type": "code",
      "source": [
        "colunas = df.columns\n",
        "print(colunas)"
      ],
      "metadata": {
        "id": "JV0mRobCPNf0"
      },
      "execution_count": null,
      "outputs": []
    },
    {
      "cell_type": "code",
      "source": [
        "profissoes = df['Profissão'].unique()\n",
        "print(profissoes)"
      ],
      "metadata": {
        "id": "kqctCmlDNOxs"
      },
      "execution_count": null,
      "outputs": []
    },
    {
      "cell_type": "code",
      "source": [
        "media_advogado = round(df[df['Profissão'].isin(['Advogado(a)'])]['Duração do sono'].mean(), 1)\n",
        "media_representante = round(df[df['Profissão'].isin(['Representante de Vendas'])]['Duração do sono'].mean(), 1)"
      ],
      "metadata": {
        "id": "xEB2VgpFL_bE"
      },
      "execution_count": 82,
      "outputs": []
    },
    {
      "cell_type": "code",
      "source": [
        "if media_advogado > media_representante:\n",
        "    print('A profissão que faz você dormir menos é a de Representante de Vendas.')\n",
        "elif media_advogado < media_representante:\n",
        "    print('A profissão que faz você dormir menos é a de Advogado(a).')"
      ],
      "metadata": {
        "id": "cH36ZtVMX7KM"
      },
      "execution_count": null,
      "outputs": []
    },
    {
      "cell_type": "markdown",
      "source": [
        "**5.** Entre quem fez enfermagem e quem fez medicina, quem tem menos\n",
        "horas de sono? (Use o método ‘isin’, considere a média)\n"
      ],
      "metadata": {
        "id": "6hdAUsHiOI6g"
      }
    },
    {
      "cell_type": "code",
      "source": [
        "media_enfermeiro = round(df[df['Profissão'].isin(['Enfermeiro(a)'])]['Duração do sono'].mean(), 1)\n",
        "media_medico = round(df[df['Profissão'].isin(['Médico(a)'])]['Duração do sono'].mean(), 1)"
      ],
      "metadata": {
        "id": "-oYeM1FzOO07"
      },
      "execution_count": 98,
      "outputs": []
    },
    {
      "cell_type": "code",
      "source": [
        "if media_enfermeiro > media_medico:\n",
        "    print('Quem faz enfermagem tem menos horas de sono.')\n",
        "elif media_enfermeiro < media_medico:\n",
        "    print('Quem faz medicina tem menos horas de sono.')\n",
        "else:\n",
        "    print('Neste caso, tanto quem fez enfermagem, quanto quem fez medicina, tem a mesma média de quantidade de horas de sono, que são de', media_enfermeiro, 'horas.')"
      ],
      "metadata": {
        "id": "C-w8A9GUXRcC"
      },
      "execution_count": null,
      "outputs": []
    },
    {
      "cell_type": "markdown",
      "source": [
        "**6.**Faça um subconjunto com as colunas Identificador, Gênero, Idade,\n",
        "Pressão sanguínea e Frequência cardíaca.\n"
      ],
      "metadata": {
        "id": "xV83Y02MPdnO"
      }
    },
    {
      "cell_type": "code",
      "source": [
        "subconjunto = df[['Identificador', 'Gênero', 'Idade', 'Pressão sanguínea', 'Frequência cardíaca']]\n",
        "print(subconjunto)"
      ],
      "metadata": {
        "id": "lgCwwcnTPmuJ"
      },
      "execution_count": null,
      "outputs": []
    },
    {
      "cell_type": "markdown",
      "source": [
        "**7.** Descubra qual a profissão menos frequente no conjunto. (Use\n",
        "value_counts)"
      ],
      "metadata": {
        "id": "9-XP4oPwQQMS"
      }
    },
    {
      "cell_type": "code",
      "source": [
        "contagem_profissoes = df['Profissão'].value_counts()"
      ],
      "metadata": {
        "id": "K4UIuCuZQXTB"
      },
      "execution_count": 46,
      "outputs": []
    },
    {
      "cell_type": "code",
      "source": [
        "profissao_menos_frequente = contagem_profissoes.idxmin()\n",
        "print('A profissão menos frequente no conjunto é a de', profissao_menos_frequente, '.')"
      ],
      "metadata": {
        "id": "KOpSv6NgR3_B"
      },
      "execution_count": null,
      "outputs": []
    },
    {
      "cell_type": "markdown",
      "source": [
        "**8.** Quem tem maior pressão sanguínea média, homens ou mulheres?\n",
        "(Considere a média)"
      ],
      "metadata": {
        "id": "zXm1zXLTSv3R"
      }
    },
    {
      "cell_type": "code",
      "source": [
        "pressao_mulheres = df[df['Gênero'] == 'Mulher']['Pressão sanguínea']\n",
        "pressao_homens = df[df['Gênero'] == 'Homem']['Pressão sanguínea']"
      ],
      "metadata": {
        "id": "0wA8ed0nR8c0"
      },
      "execution_count": 59,
      "outputs": []
    },
    {
      "cell_type": "code",
      "source": [
        "media_pressao_mulheres = pressao_mulheres.apply(lambda x: int(x.split('/')[0])).mean()\n",
        "media_pressao_homens = pressao_homens.apply(lambda x: int(x.split('/')[0])).mean()"
      ],
      "metadata": {
        "id": "wk7ZaORRTRYn"
      },
      "execution_count": 60,
      "outputs": []
    },
    {
      "cell_type": "code",
      "source": [
        "if media_pressao_mulheres > media_pressao_homens:\n",
        "    print('As mulheres têm uma pressão sanguínea média maior do que a dos homens.')\n",
        "elif media_pressao_mulheres < media_pressao_homens:\n",
        "    print('Os homens têm uma pressão sanguínea média maior do que a das mulheres.')"
      ],
      "metadata": {
        "id": "s1e2sa_0WMQ1"
      },
      "execution_count": null,
      "outputs": []
    },
    {
      "cell_type": "markdown",
      "source": [
        "**9.** É predominante entre os participantes dormir 8 horas por dia\n",
        "(considere usar Moda como medida)?\n"
      ],
      "metadata": {
        "id": "Lw-Gz5GbbjCA"
      }
    },
    {
      "cell_type": "code",
      "source": [
        "predominante = df['Duração do sono'].mode()"
      ],
      "metadata": {
        "id": "VeoVPiMWWih_"
      },
      "execution_count": 114,
      "outputs": []
    },
    {
      "cell_type": "code",
      "source": [
        "if predominante.any() == 8.0:\n",
        "    print('Sim, é predominante entre os participantes dormir 8 horas por dia.')\n",
        "elif predominante.any() < 8.0:\n",
        "    print('Não é predominante entre os participantes dormir 8 horas por dia.')"
      ],
      "metadata": {
        "id": "H7O_PkvQdsLP"
      },
      "execution_count": null,
      "outputs": []
    },
    {
      "cell_type": "markdown",
      "source": [
        "**10.** Pessoas com frequências cardíacas acima de 70 dão mais passos que\n",
        "pessoas com frequência cardíaca menor ou igual a 70? (Use a média)"
      ],
      "metadata": {
        "id": "B3KhvXuKesxu"
      }
    },
    {
      "cell_type": "code",
      "source": [
        "media_acima_70 = round(df[df['Frequência cardíaca'] > 70]['Passos diários'].mean(), 0)\n",
        "media_igual_ou_abaixo_70 = round(df[df['Frequência cardíaca'] <= 70]['Passos diários'].mean(), 0)\n",
        "print(media_acima_70)\n",
        "print(media_igual_ou_abaixo_70)"
      ],
      "metadata": {
        "id": "fUp9HWLCex82"
      },
      "execution_count": null,
      "outputs": []
    },
    {
      "cell_type": "code",
      "source": [
        "if media_acima_70 > media_igual_ou_abaixo_70:\n",
        "    print('Em média, pessoas com frequências cardíacas acima de 70 dão mais passos diários.')\n",
        "elif media_acima_70 <= media_igual_ou_abaixo_70:\n",
        "    print('Em média, pessoas com frequências cardíacas menores ou iguais a 70 dão mais passos diários.')"
      ],
      "metadata": {
        "id": "_UheRcwrfW4i"
      },
      "execution_count": null,
      "outputs": []
    }
  ]
}